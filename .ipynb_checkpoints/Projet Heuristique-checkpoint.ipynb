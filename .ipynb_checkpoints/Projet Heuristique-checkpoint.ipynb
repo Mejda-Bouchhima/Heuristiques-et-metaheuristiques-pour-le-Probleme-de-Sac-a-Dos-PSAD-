{
 "cells": [
  {
   "cell_type": "code",
   "execution_count": 20,
   "id": "08911f55",
   "metadata": {},
   "outputs": [],
   "source": [
    "def read_instance(file):\n",
    "    liste=open(file, \"r\")# ouvrir la liste des instances\n",
    "    nb_obj = liste.readline()# lire le nombre des objets\n",
    "    cap_max = int(liste.readline())# lire le nombre des objets\n",
    "    list_prof = []\n",
    "    list_vol = []\n",
    "    for j in range(int(nb_obj)): #boucle pour lire et résoudre les instances une par une\n",
    "        line = liste.readline()#lire le nom\n",
    "        l=line.split()\n",
    "        list_vol.append(int(l[0]))\n",
    "        list_prof.append(int(l[1]))\n",
    "    return (cap_max, list_vol, list_prof)"
   ]
  },
  {
   "cell_type": "code",
   "execution_count": 21,
   "id": "ccb1af38",
   "metadata": {},
   "outputs": [],
   "source": [
    "def heu_const(cap_max, list_vol, list_prof):\n",
    "    nb_obj = len(list_vol)\n",
    "    list_densite = []\n",
    "    for i in range(nb_obj): #boucle pour lire et résoudre les instances une par une\n",
    "        list_densite.append(list_prof[i]/list_vol[i])\n",
    "    tri_densite = []\n",
    "    for i in range(nb_obj):\n",
    "        m = max(list_densite)\n",
    "        k = list_densite.index(m)\n",
    "        tri_densite.append(k)\n",
    "        list_densite[k]=-1\n",
    "    cap = 0\n",
    "    sol = []\n",
    "    i = 0\n",
    "    prof = 0\n",
    "    while (cap<=cap_max)and(i<nb_obj):\n",
    "        index = tri_densite[i]\n",
    "        if (cap +list_vol[index])<=cap_max:\n",
    "            cap += list_vol[index]\n",
    "            prof += list_prof[index]\n",
    "            sol.append(index)\n",
    "        i+=1\n",
    "    return (sol, cap, prof)\n"
   ]
  },
  {
   "cell_type": "code",
   "execution_count": 22,
   "id": "58e35703",
   "metadata": {},
   "outputs": [],
   "source": [
    "def heu_const_aleatoire(cap_max, list_vol, list_prof):\n",
    "    nb_obj = len(list_vol)\n",
    "    list_densite = []\n",
    "    for i in range(nb_obj): #boucle pour lire et résoudre les instances une par une\n",
    "        list_densite.append(list_prof[i]/list_vol[i])\n",
    "    tri_densite = []\n",
    "    for i in range(nb_obj):\n",
    "        m = max(list_densite)\n",
    "        k = list_densite.index(m)\n",
    "        tri_densite.append(k)\n",
    "        list_densite[k]=-1\n",
    "    from random import randint\n",
    "    #choisir aléatoirement le premier element de la solution\n",
    "    #puis continuer la construction de la solution en ajoutant les éléments les plus dense   \n",
    "    first_elt = randint(0,nb_obj)\n",
    "    cap = list_vol[first_elt]\n",
    "    sol = [first_elt]\n",
    "    i = 0\n",
    "    k = tri_densite.index(first_elt)\n",
    "    prof = list_prof[first_elt]\n",
    "    while (cap<=cap_max)and(i<nb_obj)and (i!=k):\n",
    "        index = tri_densite[i]\n",
    "        if (cap +list_vol[index])<=cap_max:\n",
    "            cap += list_vol[index]\n",
    "            prof += list_prof[index]\n",
    "            sol.append(index)\n",
    "        i+=1\n",
    "    return (sol, cap, prof)"
   ]
  },
  {
   "cell_type": "code",
   "execution_count": 23,
   "id": "5ca758b1",
   "metadata": {},
   "outputs": [
    {
     "ename": "SyntaxError",
     "evalue": "unexpected EOF while parsing (<ipython-input-23-c403b250c539>, line 2)",
     "output_type": "error",
     "traceback": [
      "\u001b[1;36m  File \u001b[1;32m\"<ipython-input-23-c403b250c539>\"\u001b[1;36m, line \u001b[1;32m2\u001b[0m\n\u001b[1;33m    \u001b[0m\n\u001b[1;37m    ^\u001b[0m\n\u001b[1;31mSyntaxError\u001b[0m\u001b[1;31m:\u001b[0m unexpected EOF while parsing\n"
     ]
    }
   ],
   "source": [
    "def capacite(s):\n",
    "def profit(s):\n",
    "def voisin(s):\n",
    "def recherche_local(s0,cap_max, list_vol, list_prof):\n",
    "    s = s0\n",
    "    nb_obj = len(list_vol)\n",
    "    amelioration = True\n",
    "    while amelioration:\n",
    "        amelioration = False\n",
    "        prof_max = 0\n",
    "        smax = []\n",
    "        for i in voisin(s):\n",
    "            if profit(i)>prof_max:\n",
    "                smax = i;\n",
    "                prof_max = profit(i)\n",
    "        if prof_max > profit(s):\n",
    "            s = smax;\n",
    "            amelioration = True\n",
    "    return (s, capacite(s), profit(s))\n"
   ]
  },
  {
   "cell_type": "code",
   "execution_count": null,
   "id": "f6dfd0ee",
   "metadata": {},
   "outputs": [],
   "source": [
    "def GRASP(cap_max, list_vol, list_prof):\n",
    "    nbr_iteration = int(len(list_vol)*35/100)\n",
    "    prof_max = 0\n",
    "    sol_optimal = []\n",
    "    for i in range (nbr_iteration):\n",
    "        s0, _, prof0 = heu_const_aleatoire(cap_max, list_vol, list_prof)\n",
    "        s_prime, cap,prof = recherche_local(s0,cap_max, list_vol, list_prof)\n",
    "        if prof > prof_max:\n",
    "            sol_optimal = s_prime\n",
    "            prof_max = prof\n",
    "    return (sol_optimal, cap, prof_max)     "
   ]
  },
  {
   "cell_type": "code",
   "execution_count": null,
   "id": "cef70b07",
   "metadata": {},
   "outputs": [],
   "source": [
    "def taboux():"
   ]
  },
  {
   "cell_type": "code",
   "execution_count": 24,
   "id": "91aa2c1a",
   "metadata": {},
   "outputs": [
    {
     "name": "stdout",
     "output_type": "stream",
     "text": [
      "([21], 101, 91)\n",
      "([43, 9], 100, 80)\n"
     ]
    }
   ],
   "source": [
    "instance = read_instance('test100-SC(1).txt')\n",
    "print(heu_const(instance[0], instance[1], instance[2]))\n",
    "print(heu_const_aleatoire(instance[0], instance[1], instance[2]))"
   ]
  },
  {
   "cell_type": "code",
   "execution_count": null,
   "id": "41175b07",
   "metadata": {},
   "outputs": [],
   "source": [
    "from docplex.mp.model import Model#pour les insytuctions cplex\n",
    "import numpy as np\n",
    "import csv\n",
    "import time\n",
    "\n",
    "with open(\"Résultat.csv\", \"w\") as f_write: # créer et ouvrir le fichier Resultat.csv\n",
    "    writer = csv.writer(f_write, delimiter=\";\")# spécifier le délimiteur des colonnes\n",
    "    writer.writerow( [\"instance\",\"objectif recherche local\",\"temps(s)\",\"objectif GRASP\",\"temps(s)\"] )#écrire les noms des colonnes dans Resultat.csv\n",
    "    files=open(\"all.txt\", \"r\")# ouvrir la liste des instances\n",
    "    nb_inst = files.readline()# lire le nombre des instances à résoudre\n",
    "    print(\"nb_inst=\", int(nb_inst))#affichage du nombre des instances à résoudre pour vérification\n",
    "    for j in range(int(nb_inst)): #boucle pour lire et résoudre les instances une par une\n",
    "        file = files.readline()#lire le nom de l'instance j à résoudre\n",
    "       #pour toutes les ligne dans all.txt, le nom de l'instance est sauvgardé dans la chaine inst suivit \n",
    "       #du caractère de fin de ligne \\n sauf pour la dernière ligne d'ou il faut enlever ce \\n\n",
    "        if j < int(nb_inst): #vérifier si ce n'est pas la dernière ligne dans all.txt\n",
    "            file=file[:-1]#prebdre toute la chaine sauf le dernier caractère (le \\n)\n",
    "            cap_max, list_vol, list_prof = read_instance(file)\n",
    "            t0 = time.time()\n",
    "            s0 = heu_const(cap_max, list_vol, list_prof)\n",
    "            objective_value1, list_vol, list_prof = recherche_local(s0,cap_max, list_vol, list_prof)\n",
    "            t1 = time.time()\n",
    "            objective_value2, list_vol, list_prof = GRASP(cap_max, list_vol, list_prof)       \n",
    "            t2 = time.time()\n",
    "            writer.writerow( [file,int(objective_value1), round(t1-t0,3), int(objective_value2), round(t2-t1,3)] )#ecrire le nom de linstance, l'objectif et le temps de résolution dans resultat.csv\n",
    "    \n",
    "       \n",
    "    liste.close()# fermer le fichier liste des instances\n",
    "results.close()\n"
   ]
  },
  {
   "cell_type": "code",
   "execution_count": 25,
   "id": "2dc54da3",
   "metadata": {},
   "outputs": [
    {
     "name": "stdout",
     "output_type": "stream",
     "text": [
      "1672700432.2416692\n"
     ]
    }
   ],
   "source": []
  },
  {
   "cell_type": "code",
   "execution_count": null,
   "id": "4b2f1b27",
   "metadata": {},
   "outputs": [],
   "source": []
  }
 ],
 "metadata": {
  "kernelspec": {
   "display_name": "Python 3",
   "language": "python",
   "name": "python3"
  },
  "language_info": {
   "codemirror_mode": {
    "name": "ipython",
    "version": 3
   },
   "file_extension": ".py",
   "mimetype": "text/x-python",
   "name": "python",
   "nbconvert_exporter": "python",
   "pygments_lexer": "ipython3",
   "version": "3.8.8"
  }
 },
 "nbformat": 4,
 "nbformat_minor": 5
}
